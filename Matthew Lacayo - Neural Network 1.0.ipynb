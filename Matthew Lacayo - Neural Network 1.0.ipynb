{
 "cells": [
  {
   "cell_type": "code",
   "execution_count": 11,
   "metadata": {},
   "outputs": [],
   "source": [
    "import numpy as np\n",
    "from matplotlib import pyplot as plt\n",
    "from sklearn import preprocessing\n",
    "import tensorflow as tf\n",
    "np.random.seed(7)"
   ]
  },
  {
   "cell_type": "code",
   "execution_count": 19,
   "metadata": {},
   "outputs": [],
   "source": [
    "class NeuralNet:\n",
    "    def __init__(self, inputSize, hiddenL1, hiddenL2, outputSize):\n",
    "        \n",
    "        #DEFINING NETWORK PARAMETERS\n",
    "        self.input_size = inputSize\n",
    "        self.hidden_size1 = hiddenL1\n",
    "        self.hidden_size2 = hiddenL2\n",
    "        self.output_size = outputSize\n",
    "        self.learning_rate = 0.01\n",
    "        \n",
    "        #CREATING WEIGHTS AND BIASES\n",
    "        self.w1 = np.random.randn(self.input_size, self.hidden_size1) * np.sqrt(2 / self.input_size)\n",
    "        self.w2 = np.random.randn(self.hidden_size1, self.hidden_size2) * np.sqrt(2 / self.hidden_size1)\n",
    "        self.w3 = np.random.randn(self.hidden_size2, self.output_size) * np.sqrt(2 / self.hidden_size2)\n",
    "    \n",
    "        \n",
    "        self.b3 = np.zeros((1, self.output_size))\n",
    "        self.b2 = np.zeros((1, self.hidden_size2))\n",
    "        self.b1 = np.zeros((1, self.hidden_size1))\n",
    "        \n",
    "        \n",
    "    #DEFINING NON LINEARITY AND ITS DERIVATIVE    \n",
    "    \n",
    "    def sigmoid(self, n):\n",
    "        return(1 / (1 + np.exp(-n)))\n",
    "    \n",
    "    def sigmoid_prime(self, n):\n",
    "        return(self.sigmoid(n) * (1 - self.sigmoid(n)))\n",
    "        \n",
    "        \n",
    "    def relu(self, n):\n",
    "        return np.where(n > 0, n, 0.03 * n)\n",
    "    \n",
    "    def relu_prime(self, n):\n",
    "        return np.where(n > 0, 1.0, 0.03)\n",
    "    \n",
    "    def linear(self, n):\n",
    "        return n\n",
    "    \n",
    "    def linear_prime(self, n):\n",
    "        return 1\n",
    "    \n",
    "    def tanh(self, n):\n",
    "        return np.tanh(n)\n",
    "    \n",
    "    def tanh_prime(self, n):\n",
    "        return (np.ones(n.shape) - (self.tanh(n)) ** 2)\n",
    "    \n",
    "    def softmax(self, x):\n",
    "        \"\"\"Compute softmax values for each sets of scores in x.\"\"\"\n",
    "        return np.divide(np.exp(x), np.sum(np.exp(x), axis=1).reshape(-1, 1))\n",
    "    \n",
    "    def softmax_prime(self, x):\n",
    "        return (self.softmax(x) * (1 - self.softmax(x)))\n",
    "        \n",
    "\n",
    "    #NETWORK FEED FORWARD    \n",
    "    def forward(self, X):\n",
    "        \n",
    "        self.lastIn = X\n",
    "        \n",
    "        self.z1 = np.dot(X, self.w1) + self.b1\n",
    "        self.O1 = self.relu(self.z1)\n",
    "        self.z2 = np.dot(self.O1, self.w2) + self.b2\n",
    "        self.O2 = self.relu(self.z2)\n",
    "        self.z3 = np.dot(self.O2, self.w3) + self.b3\n",
    "        self.O3 = self.sigmoid(self.z3)\n",
    "        \n",
    "    #NETWORK FEED BACKWARD    \n",
    "    def backward(self, X, y):\n",
    "        \n",
    "        #USING CHAIN RULE TO CALCULATE ERROR WITH RESPECT TO WEIGHTS AND BIASES\n",
    "                                   \n",
    "        self.error3 = (self.O3 - y) * self.sigmoid_prime(self.z3)\n",
    "        self.pErr_pw3 = np.dot(self.O2.T, self.error3)\n",
    "                                   \n",
    "        self.error2 = np.multiply(np.dot(self.error3, self.w3.T), self.relu_prime(self.z2))\n",
    "        self.pErr_pw2 = np.dot(self.O1.T, self.error2)\n",
    "                                   \n",
    "        self.error1 = np.multiply(np.dot(self.error2, self.w2.T), self.relu_prime(self.z1))\n",
    "        self.pErr_pw1 = np.dot(X.T, self.error1)\n",
    "        \n",
    "        \n",
    "        #UPDATING WEIGHTS AND BIASES BASED ON THE GRADIENT, AND THE PREDEFINED LEARNING RATE\n",
    "        self.w1 -= self.pErr_pw1 * (self.learning_rate / 30)\n",
    "        self.w2 -= self.pErr_pw2 * (self.learning_rate / 30)\n",
    "        self.w3 -= self.pErr_pw3 * (self.learning_rate / 30)\n",
    "                                   \n",
    "        self.b3 -= np.array([self.error3.mean(axis = 0)]) * (self.learning_rate / 30)\n",
    "        self.b2 -= np.array([self.error2.mean(axis = 0)]) * (self.learning_rate / 30)\n",
    "        self.b1 -= np.array([self.error1.mean(axis = 0)]) * (self.learning_rate / 30)\n",
    "        \n",
    "        \n",
    "    \n",
    "    def getCost(self, X, y):\n",
    "        #CALCULATE COST OF OLD WEIGHTS\n",
    "        self.forward(X)\n",
    "        self.cost = np.sum((self.O3 - y)**2) / len(y)\n",
    "        return self.cost\n",
    "        \n",
    "    #FUNCTION TO RETURN THE MODEL'S PREDICTION TO A NEW INPUT\n",
    "    def predict(self, x):\n",
    "        self.forward(x)\n",
    "        return self.O3\n",
    "    \n",
    "    def train(self, X, y, epochs):\n",
    "        totDat = np.hstack((X, y))\n",
    "        batchesOfData = getBatches(totDat)\n",
    "        for i in range(epochs):\n",
    "            batchesOfData = getBatches(totDat)\n",
    "            for batch in batchesOfData:\n",
    "                self.forward(np.split(batch, [-10], axis=1)[0])\n",
    "                self.backward(np.split(batch, [-10], axis=1)[0], np.split(batch, [-10], axis=1)[1])\n",
    "            if(i % 10 == 0):\n",
    "                print(\"Cost after epoch \", i + 1, \": \", self.getCost(X, y))"
   ]
  },
  {
   "cell_type": "markdown",
   "metadata": {},
   "source": [
    "Below, I will create my model"
   ]
  },
  {
   "cell_type": "code",
   "execution_count": 20,
   "metadata": {},
   "outputs": [],
   "source": [
    "def getBatches(ls):\n",
    "    np.random.shuffle(ls)\n",
    "    return(np.split(ls,30))"
   ]
  },
  {
   "cell_type": "code",
   "execution_count": 21,
   "metadata": {},
   "outputs": [],
   "source": [
    "mnist = tf.keras.datasets.mnist\n",
    "\n",
    "(x_train, y_train),(x_test, y_test) = mnist.load_data()\n",
    "x_train, x_test = x_train / 255.0, x_test / 255.0\n"
   ]
  },
  {
   "cell_type": "code",
   "execution_count": 22,
   "metadata": {},
   "outputs": [],
   "source": [
    "x_train = x_train.reshape(60000, 28*28)\n",
    "x_test = x_test.reshape(-1, 28*28)\n",
    "y_train = y_train.reshape(-1, 1)\n",
    "y_test = y_test.reshape(-1, 1)"
   ]
  },
  {
   "cell_type": "code",
   "execution_count": 23,
   "metadata": {},
   "outputs": [],
   "source": [
    "holder = np.zeros((y_train.shape[0], 10))\n",
    "counter = 0\n",
    "for ls in y_train:\n",
    "    holder[counter][ls] = 1\n",
    "    counter += 1\n",
    "y_train = holder\n",
    "\n",
    "counter = 0\n",
    "holder = np.zeros((y_test.shape[0], 10))\n",
    "for ls in y_test:\n",
    "    holder[counter][ls] = 1\n",
    "    counter += 1\n",
    "y_test = holder\n",
    "    "
   ]
  },
  {
   "cell_type": "code",
   "execution_count": 24,
   "metadata": {},
   "outputs": [],
   "source": [
    "model = NeuralNet(784, 256, 256, 10)"
   ]
  },
  {
   "cell_type": "code",
   "execution_count": 197,
   "metadata": {},
   "outputs": [
    {
     "name": "stdout",
     "output_type": "stream",
     "text": [
      "Cost after epoch  1 :  0.02967946098897094\n",
      "Cost after epoch  11 :  0.027184107234220035\n",
      "Cost after epoch  21 :  0.025316609440023962\n"
     ]
    }
   ],
   "source": [
    "model.train(x_train, y_train, 21)"
   ]
  },
  {
   "cell_type": "code",
   "execution_count": 198,
   "metadata": {},
   "outputs": [],
   "source": [
    "results = model.predict(x_test)"
   ]
  },
  {
   "cell_type": "code",
   "execution_count": 199,
   "metadata": {},
   "outputs": [
    {
     "data": {
      "text/plain": [
       "0.042357203458813435"
      ]
     },
     "execution_count": 199,
     "metadata": {},
     "output_type": "execute_result"
    }
   ],
   "source": [
    "model.getCost(x_test, y_test)"
   ]
  },
  {
   "cell_type": "code",
   "execution_count": 28,
   "metadata": {},
   "outputs": [],
   "source": [
    "results = np.argmax(results, axis=1)"
   ]
  },
  {
   "cell_type": "code",
   "execution_count": 192,
   "metadata": {},
   "outputs": [
    {
     "ename": "AxisError",
     "evalue": "axis 1 is out of bounds for array of dimension 1",
     "output_type": "error",
     "traceback": [
      "\u001b[1;31m---------------------------------------------------------------------------\u001b[0m",
      "\u001b[1;31mAxisError\u001b[0m                                 Traceback (most recent call last)",
      "\u001b[1;32m<ipython-input-192-498de5f81bc3>\u001b[0m in \u001b[0;36m<module>\u001b[1;34m\u001b[0m\n\u001b[1;32m----> 1\u001b[1;33m \u001b[0my_test\u001b[0m \u001b[1;33m=\u001b[0m \u001b[0mnp\u001b[0m\u001b[1;33m.\u001b[0m\u001b[0margmax\u001b[0m\u001b[1;33m(\u001b[0m\u001b[0my_test\u001b[0m\u001b[1;33m,\u001b[0m \u001b[0maxis\u001b[0m\u001b[1;33m=\u001b[0m\u001b[1;36m1\u001b[0m\u001b[1;33m)\u001b[0m\u001b[1;33m\u001b[0m\u001b[0m\n\u001b[0m",
      "\u001b[1;32m~\\Anaconda3\\envs\\Deep Learning\\lib\\site-packages\\numpy\\core\\fromnumeric.py\u001b[0m in \u001b[0;36margmax\u001b[1;34m(a, axis, out)\u001b[0m\n\u001b[0;32m   1035\u001b[0m \u001b[1;33m\u001b[0m\u001b[0m\n\u001b[0;32m   1036\u001b[0m     \"\"\"\n\u001b[1;32m-> 1037\u001b[1;33m     \u001b[1;32mreturn\u001b[0m \u001b[0m_wrapfunc\u001b[0m\u001b[1;33m(\u001b[0m\u001b[0ma\u001b[0m\u001b[1;33m,\u001b[0m \u001b[1;34m'argmax'\u001b[0m\u001b[1;33m,\u001b[0m \u001b[0maxis\u001b[0m\u001b[1;33m=\u001b[0m\u001b[0maxis\u001b[0m\u001b[1;33m,\u001b[0m \u001b[0mout\u001b[0m\u001b[1;33m=\u001b[0m\u001b[0mout\u001b[0m\u001b[1;33m)\u001b[0m\u001b[1;33m\u001b[0m\u001b[0m\n\u001b[0m\u001b[0;32m   1038\u001b[0m \u001b[1;33m\u001b[0m\u001b[0m\n\u001b[0;32m   1039\u001b[0m \u001b[1;33m\u001b[0m\u001b[0m\n",
      "\u001b[1;32m~\\Anaconda3\\envs\\Deep Learning\\lib\\site-packages\\numpy\\core\\fromnumeric.py\u001b[0m in \u001b[0;36m_wrapfunc\u001b[1;34m(obj, method, *args, **kwds)\u001b[0m\n\u001b[0;32m     49\u001b[0m \u001b[1;32mdef\u001b[0m \u001b[0m_wrapfunc\u001b[0m\u001b[1;33m(\u001b[0m\u001b[0mobj\u001b[0m\u001b[1;33m,\u001b[0m \u001b[0mmethod\u001b[0m\u001b[1;33m,\u001b[0m \u001b[1;33m*\u001b[0m\u001b[0margs\u001b[0m\u001b[1;33m,\u001b[0m \u001b[1;33m**\u001b[0m\u001b[0mkwds\u001b[0m\u001b[1;33m)\u001b[0m\u001b[1;33m:\u001b[0m\u001b[1;33m\u001b[0m\u001b[0m\n\u001b[0;32m     50\u001b[0m     \u001b[1;32mtry\u001b[0m\u001b[1;33m:\u001b[0m\u001b[1;33m\u001b[0m\u001b[0m\n\u001b[1;32m---> 51\u001b[1;33m         \u001b[1;32mreturn\u001b[0m \u001b[0mgetattr\u001b[0m\u001b[1;33m(\u001b[0m\u001b[0mobj\u001b[0m\u001b[1;33m,\u001b[0m \u001b[0mmethod\u001b[0m\u001b[1;33m)\u001b[0m\u001b[1;33m(\u001b[0m\u001b[1;33m*\u001b[0m\u001b[0margs\u001b[0m\u001b[1;33m,\u001b[0m \u001b[1;33m**\u001b[0m\u001b[0mkwds\u001b[0m\u001b[1;33m)\u001b[0m\u001b[1;33m\u001b[0m\u001b[0m\n\u001b[0m\u001b[0;32m     52\u001b[0m \u001b[1;33m\u001b[0m\u001b[0m\n\u001b[0;32m     53\u001b[0m     \u001b[1;31m# An AttributeError occurs if the object does not have\u001b[0m\u001b[1;33m\u001b[0m\u001b[1;33m\u001b[0m\u001b[0m\n",
      "\u001b[1;31mAxisError\u001b[0m: axis 1 is out of bounds for array of dimension 1"
     ]
    }
   ],
   "source": [
    "y_test = np.argmax(y_test, axis=1)"
   ]
  },
  {
   "cell_type": "code",
   "execution_count": 31,
   "metadata": {},
   "outputs": [],
   "source": [
    "\n",
    "equality = results == y_test"
   ]
  },
  {
   "cell_type": "code",
   "execution_count": 32,
   "metadata": {},
   "outputs": [],
   "source": [
    "fails = np.where(equality == False)"
   ]
  },
  {
   "cell_type": "code",
   "execution_count": 33,
   "metadata": {},
   "outputs": [
    {
     "data": {
      "text/plain": [
       "(array([   8,  247,  259,  320,  321,  340,  445,  448,  495,  582,  619,\n",
       "         659,  684,  691,  717,  720,  740,  810,  938,  947,  951,  956,\n",
       "         965, 1014, 1032, 1044, 1107, 1112, 1156, 1182, 1194, 1226, 1232,\n",
       "        1242, 1247, 1260, 1283, 1289, 1319, 1326, 1328, 1414, 1494, 1500,\n",
       "        1522, 1527, 1530, 1549, 1553, 1609, 1621, 1681, 1754, 1790, 1901,\n",
       "        1940, 1941, 1952, 1970, 2016, 2035, 2044, 2053, 2070, 2098, 2109,\n",
       "        2118, 2129, 2130, 2135, 2182, 2185, 2186, 2224, 2266, 2272, 2293,\n",
       "        2299, 2369, 2371, 2387, 2405, 2406, 2408, 2422, 2433, 2454, 2488,\n",
       "        2514, 2607, 2648, 2654, 2721, 2730, 2810, 2863, 2877, 2896, 2927,\n",
       "        2939, 2953, 2995, 3005, 3030, 3060, 3073, 3114, 3117, 3225, 3333,\n",
       "        3405, 3422, 3503, 3520, 3549, 3558, 3559, 3597, 3681, 3718, 3751,\n",
       "        3757, 3767, 3776, 3780, 3811, 3818, 3838, 3853, 3869, 3893, 3902,\n",
       "        3906, 3941, 3976, 4000, 4065, 4075, 4078, 4093, 4163, 4176, 4199,\n",
       "        4201, 4212, 4224, 4248, 4289, 4306, 4313, 4355, 4425, 4477, 4497,\n",
       "        4500, 4536, 4601, 4635, 4639, 4690, 4740, 4807, 4814, 4823, 4837,\n",
       "        4876, 4880, 4886, 4956, 4966, 4990, 5067, 5140, 5331, 5457, 5600,\n",
       "        5634, 5642, 5676, 5734, 5749, 5842, 5887, 5888, 5936, 5937, 5955,\n",
       "        5973, 6045, 6046, 6059, 6071, 6081, 6091, 6166, 6172, 6173, 6390,\n",
       "        6505, 6511, 6555, 6560, 6571, 6597, 6598, 6625, 6651, 6783, 6847,\n",
       "        7208, 7216, 7233, 7432, 7434, 7886, 8020, 8059, 8094, 8246, 8277,\n",
       "        8279, 8339, 8408, 8520, 8522, 9009, 9015, 9019, 9024, 9280, 9587,\n",
       "        9634, 9642, 9679, 9716, 9729, 9745, 9749, 9755, 9768, 9770, 9779,\n",
       "        9808, 9839, 9888, 9904, 9905, 9944, 9982], dtype=int64),)"
      ]
     },
     "execution_count": 33,
     "metadata": {},
     "output_type": "execute_result"
    }
   ],
   "source": [
    "fails"
   ]
  },
  {
   "cell_type": "code",
   "execution_count": 566,
   "metadata": {},
   "outputs": [
    {
     "data": {
      "text/plain": [
       "<matplotlib.image.AxesImage at 0x21495f720f0>"
      ]
     },
     "execution_count": 566,
     "metadata": {},
     "output_type": "execute_result"
    },
    {
     "data": {
      "image/png": "[encoded data removed]",
      "text/plain": [
       "<Figure size 432x288 with 1 Axes>"
      ]
     },
     "metadata": {
      "needs_background": "light"
     },
     "output_type": "display_data"
    }
   ],
   "source": [
    "plt.imshow(x_test[9839].reshape(28, 28), cmap='gray')"
   ]
  },
  {
   "cell_type": "code",
   "execution_count": 213,
   "metadata": {},
   "outputs": [
    {
     "data": {
      "text/plain": [
       "<matplotlib.image.AxesImage at 0x20c814cef60>"
      ]
     },
     "execution_count": 213,
     "metadata": {},
     "output_type": "execute_result"
    },
    {
     "data": {
      "image/png": "[encoded data removed]",
      "text/plain": [
       "<Figure size 432x288 with 1 Axes>"
      ]
     },
     "metadata": {
      "needs_background": "light"
     },
     "output_type": "display_data"
    }
   ],
   "source": [
    "plt.imshow(x_test[63].reshape(28, 28), cmap='gray')"
   ]
  },
  {
   "cell_type": "code",
   "execution_count": 565,
   "metadata": {},
   "outputs": [
    {
     "data": {
      "text/plain": [
       "5"
      ]
     },
     "execution_count": 565,
     "metadata": {},
     "output_type": "execute_result"
    }
   ],
   "source": [
    "y_test[340]"
   ]
  },
  {
   "cell_type": "code",
   "execution_count": 61,
   "metadata": {},
   "outputs": [],
   "source": [
    "from PIL import Image"
   ]
  },
  {
   "cell_type": "code",
   "execution_count": 232,
   "metadata": {},
   "outputs": [],
   "source": [
    "im = Image.open('Digits.jpg').convert('L')"
   ]
  },
  {
   "cell_type": "code",
   "execution_count": 233,
   "metadata": {},
   "outputs": [],
   "source": [
    "imarr = np.asarray(im)"
   ]
  },
  {
   "cell_type": "code",
   "execution_count": 234,
   "metadata": {},
   "outputs": [],
   "source": [
    "imarr = imarr.reshape(28*28)"
   ]
  },
  {
   "cell_type": "code",
   "execution_count": 235,
   "metadata": {},
   "outputs": [
    {
     "data": {
      "text/plain": [
       "<matplotlib.image.AxesImage at 0x20c8163b518>"
      ]
     },
     "execution_count": 235,
     "metadata": {},
     "output_type": "execute_result"
    },
    {
     "data": {
      "image/png": "[encoded data removed]",
      "text/plain": [
       "<Figure size 432x288 with 1 Axes>"
      ]
     },
     "metadata": {
      "needs_background": "light"
     },
     "output_type": "display_data"
    }
   ],
   "source": [
    "plt.imshow(imarr.reshape(28, 28), cmap='gray')"
   ]
  },
  {
   "cell_type": "code",
   "execution_count": 236,
   "metadata": {},
   "outputs": [
    {
     "data": {
      "text/plain": [
       "array([[0.00000000e+000, 0.00000000e+000, 1.00000000e+000,\n",
       "        0.00000000e+000, 0.00000000e+000, 2.90683065e-305,\n",
       "        6.63569072e-196, 0.00000000e+000, 1.74514468e-262,\n",
       "        0.00000000e+000]])"
      ]
     },
     "execution_count": 236,
     "metadata": {},
     "output_type": "execute_result"
    }
   ],
   "source": [
    "model.predict(imarr)"
   ]
  },
  {
   "cell_type": "code",
   "execution_count": 237,
   "metadata": {},
   "outputs": [
    {
     "data": {
      "text/plain": [
       "2"
      ]
     },
     "execution_count": 237,
     "metadata": {},
     "output_type": "execute_result"
    }
   ],
   "source": [
    "np.argmax(model.predict(imarr))"
   ]
  },
  {
   "cell_type": "code",
   "execution_count": 194,
   "metadata": {},
   "outputs": [
    {
     "data": {
      "text/plain": [
       "array([[0., 0., 0., ..., 0., 0., 0.],\n",
       "       [0., 0., 0., ..., 0., 0., 0.],\n",
       "       [0., 0., 0., ..., 0., 0., 0.],\n",
       "       ...,\n",
       "       [0., 0., 0., ..., 0., 0., 0.],\n",
       "       [0., 0., 0., ..., 0., 0., 0.],\n",
       "       [0., 0., 0., ..., 0., 0., 0.]])"
      ]
     },
     "execution_count": 194,
     "metadata": {},
     "output_type": "execute_result"
    }
   ],
   "source": [
    "x_test"
   ]
  },
  {
   "cell_type": "code",
   "execution_count": 195,
   "metadata": {},
   "outputs": [],
   "source": [
    "counter = 0\n",
    "holder = np.zeros((y_test.shape[0], 10))\n",
    "for ls in y_test:\n",
    "    holder[counter][ls] = 1\n",
    "    counter += 1\n",
    "y_test = holder\n",
    "    "
   ]
  },
  {
   "cell_type": "code",
   "execution_count": null,
   "metadata": {},
   "outputs": [],
   "source": []
  }
 ],
 "metadata": {
  "kernelspec": {
   "display_name": "Python 3",
   "language": "python",
   "name": "python3"
  },
  "language_info": {
   "codemirror_mode": {
    "name": "ipython",
    "version": 3
   },
   "file_extension": ".py",
   "mimetype": "text/x-python",
   "name": "python",
   "nbconvert_exporter": "python",
   "pygments_lexer": "ipython3",
   "version": "3.6.6"
  }
 },
 "nbformat": 4,
 "nbformat_minor": 2
}
